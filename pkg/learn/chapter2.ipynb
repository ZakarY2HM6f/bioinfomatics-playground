{
 "cells": [
  {
   "cell_type": "code",
   "execution_count": 3,
   "id": "deb85864",
   "metadata": {},
   "outputs": [],
   "source": [
    "%load_ext autoreload\n",
    "%autoreload 2\n",
    "\n",
    "import sys\n",
    "sys.path.append('..')"
   ]
  },
  {
   "cell_type": "code",
   "execution_count": 14,
   "id": "3135d306",
   "metadata": {},
   "outputs": [],
   "source": [
    "from common import *"
   ]
  },
  {
   "cell_type": "markdown",
   "id": "1522648e",
   "metadata": {},
   "source": [
    "## Task 1 - Finding protein\n",
    "using human insulin from NCBI as an example<br>\n",
    "translation: `MALWMRLLPLLALLALWGPDPAAAFVNQHLCGSHLVEALYLVCGERGFFYTPKTRREAEDLQVGQVELGGGPGAGSLQPLALEGSLQKRGIVEQCCTSICSLYQLENYCN`"
   ]
  },
  {
   "cell_type": "code",
   "execution_count": 17,
   "id": "685916cf",
   "metadata": {},
   "outputs": [
    {
     "name": "stdout",
     "output_type": "stream",
     "text": [
      "ME\n",
      "\n",
      "> MALWMRLLPLLALLALWGPDPAAAFVNQHLCGSHLVEALYLVCGERGFFYTPKTRREAEDLQVGQVELGGGPGAGSLQPLALEGSLQKRGIVEQCCTSICSLYQLENYCN\n",
      "\n",
      "MRLLPLLALLALWGPDPAAAFVNQHLCGSHLVEALYLVCGERGFFYTPKTRREAEDLQVGQVELGGGPGAGSLQPLALEGSLQKRGIVEQCCTSICSLYQLENYCN\n",
      "MLVQHCSTMPRFCRDPSRAKGCRLPAPGPPPSSTCPTCRSSASRRVLGV\n",
      "MPRFCRDPSRAKGCRLPAPGPPPSSTCPTCRSSASRRVLGV\n",
      "MAEGQ\n"
     ]
    }
   ],
   "source": [
    "data = list(readFasta('data/ins.txt').items())\n",
    "assert(len(data) == 1)\n",
    "\n",
    "seq = DNASeq(data[0][1])\n",
    "frames = genReadingFrames(seq)\n",
    "proteins = [ findProtein(f) for f in frames ]\n",
    "proteins = sum(proteins, [])\n",
    "\n",
    "answer = \"MALWMRLLPLLALLALWGPDPAAAFVNQHLCGSHLVEALYLVCGERGFFYTPKTRREAEDLQVGQVELGGGPGAGSLQPLALEGSLQKRGIVEQCCTSICSLYQLENYCN\"\n",
    "\n",
    "for p in proteins:\n",
    "    if p == answer:\n",
    "        print(f\"\\n> {p}\\n\")\n",
    "    else:\n",
    "        print(p)\n",
    "\n",
    "assert(answer in proteins)"
   ]
  },
  {
   "cell_type": "code",
   "execution_count": null,
   "id": "6e7671db",
   "metadata": {},
   "outputs": [],
   "source": []
  }
 ],
 "metadata": {
  "kernelspec": {
   "display_name": "3.13.4",
   "language": "python",
   "name": "python3"
  },
  "language_info": {
   "codemirror_mode": {
    "name": "ipython",
    "version": 3
   },
   "file_extension": ".py",
   "mimetype": "text/x-python",
   "name": "python",
   "nbconvert_exporter": "python",
   "pygments_lexer": "ipython3",
   "version": "3.13.4"
  }
 },
 "nbformat": 4,
 "nbformat_minor": 5
}
