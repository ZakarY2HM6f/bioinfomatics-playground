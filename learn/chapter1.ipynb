{
 "cells": [
  {
   "cell_type": "code",
   "execution_count": 1,
   "id": "7491cc23",
   "metadata": {},
   "outputs": [],
   "source": [
    "%load_ext autoreload\n",
    "%autoreload 2"
   ]
  },
  {
   "cell_type": "code",
   "execution_count": null,
   "id": "e3e2281c",
   "metadata": {},
   "outputs": [],
   "source": [
    "from __init__ import *"
   ]
  },
  {
   "cell_type": "markdown",
   "id": "42b41f86",
   "metadata": {},
   "source": [
    "# Task 1 - Counting DNA bases"
   ]
  },
  {
   "cell_type": "code",
   "execution_count": 7,
   "id": "2ff231b7",
   "metadata": {},
   "outputs": [
    {
     "name": "stdout",
     "output_type": "stream",
     "text": [
      "219 211 216 190\n"
     ]
    }
   ],
   "source": [
    "import collections\n",
    "\n",
    "with open(\"problems/rosalind_dna.txt\", 'r') as f:\n",
    "    seq = f.read().strip()\n",
    "counts = collections.Counter(seq)\n",
    "\n",
    "print(f\"{counts['A']} {counts['C']} {counts['G']} {counts['T']}\")"
   ]
  },
  {
   "cell_type": "markdown",
   "id": "2b0525ab",
   "metadata": {},
   "source": [
    "# Task 2 - Transcribing into RNA"
   ]
  },
  {
   "cell_type": "code",
   "execution_count": null,
   "id": "b4809e88",
   "metadata": {},
   "outputs": [
    {
     "name": "stdout",
     "output_type": "stream",
     "text": [
      "GGGCGUGCUGAUGCUAUUGGCAUCCACACCAAUUGAGUGCUCAUAUUAUGAACACCUCUGCUUAUGUGUGAGCCUCCCUCGCCAUCAGUGUUCAACCUGAAGAAGAUGGAGUAGCUAUUCGGUUGGCUAAACGCGCGAUUGGCAACGCGCCUGUAAUUGUCAAGUCAGAGUCCCAGAUAUGUCGCAGACCGUUGGAGUCGCCAUGGACAAGCUCGCUUGGUGGUAGUAUUUGCCGGCAGGAGAAACUAUACUGCAUGUGCGCGCCGCUAUACACGUGGCCGCCCCCACAAGCGCGUCAUUACAGUCCGGCCUGCGCCCACCUCGCCUCGUGCUUGCCAACAGUUCGAGUAGCUAUAAGUUGACGGAACCAAUGUUCACCAAAAGUCGCCACGUAGUAUACAAUUUCAGCAAGAAUUCAAUAUGGCUGUCGAAGCGGGAGUAUGGUUAGCGCACAUCGUACUUGCCUCCCGAUUGCCAGAUGUCUCGGCAUUGCUAGCUGACCCUGUAAUCAGCCGCAAAUGCACAUGGAGUCGAAAGGGAGACCGAGCUACGCCGAUCGGCGAUCGUCAAGUAAGGGCGUGGUUGACGAUUAGACACUGUAGCACAUUGGCCGUUAUGGUCAGCAGGGGAGUUCUGGAUUGUUCAGGCAGCGCGUGACUUCAAGCUCAGCGGUGCAAACAACCUGACGUGUUAAGAAUUGGUGUCCAUGCAACUUUGGGCCCAUCAAAAGCAGCUUAGUACAUGGUGGUCCCCUCAGACUCUUGGCGCCACCGAGUGAGAAUGAGCAAAUUCGGAAGAGCGAUUGAAACGAUCGCUCAUCAUGAAGCCUAAGAUUACUUGUGUGUGGCCGAAAGGACUAACGGUCAGACUCAACUCACAAACUACAAGGCGUUACCUGUGAACGUUCGAUCGAGCCAUGGUUUAUGUUUUAAGUG\n"
     ]
    }
   ],
   "source": [
    "seq = readFile(\"problems/rosalind_rna.txt\")\n",
    "seq = seq.replace('T', 'U')\n",
    "\n",
    "print(seq)"
   ]
  },
  {
   "cell_type": "markdown",
   "id": "d06f7255",
   "metadata": {},
   "source": [
    "# Task 3 - Reverse complementing DNA\n",
    "\n",
    "DNA sequences have directions which run from 5' to 3' with 5' being the phosphate end and 3' being the hydroxy end. String representions are also ordered as such. So to form a sequence complementary to another, not only should the bases be flipped to their complements, the order of the sequence is also reversed.\n",
    "\n",
    "```\n",
    "5' ---> 3'\n",
    "ATCGTAGCAG <- input sequence\n",
    "TAGCATCGTC <- output sequence\n",
    "3' ---> 5'\n",
    "\n",
    "output sequence (5'-3'): CTGCTACGAT\n",
    "```"
   ]
  },
  {
   "cell_type": "code",
   "execution_count": null,
   "id": "c1ab0095",
   "metadata": {},
   "outputs": [
    {
     "name": "stdout",
     "output_type": "stream",
     "text": [
      "TGCAGGCAGGGTCTATTTACTGATCGTACTTGTACAACGAAGCCTCTAGGAGGAGTCACATACTGTTCCGTTAGCAACACCATTACCGATCGAACGAGTGACACCGCGTGGCCCATCGGGCTAGCGGGCTCCCTACTGGCCGTAGGTGATCGATACACGAAAGCCAGACAAGTCGCGGATGGGTATGAGCCTACTAGAGTGCACTGGGGTAAGTGACTAGTTCGATCCTTTTATCGATCGTGATCCAGCGCGGGCAAGACGACACCAATGCAAAGATCCTCCGTCGTGTGGATCGCCCTGCCAGTCGAGGCGCGGGGTCAAAAGATCAGGTGGTCAATCTACAGTGCCATCTGTATTGTGAGGGAGAATTTTAAAGTATAGCGTCGATCAAAGTCGGTTAATCAGTTAACTTAGCGGATGTCCACGGAGCGTCGTAGCAGGATTTTGTCCCGTAACGAAGTGGTCAACGGGTGTAGTTCAGTAAGGAAAGGCAATGCCAGGCCTCGGTTCAGCAGGCTGGGATTGACTGGATCGCGTCATAGGCTTCAAAGCACGTGTATATTCAAGTAGCCTCCTTCTTACGGAGTAGTAGACGGAAAACGGTGAGTAGCAACAAGTAATCAAAGACGGTATCTAACCACCAGAGCGTACAAGTGAAAAGGTATGGTTAACCGTTGCGAATAGGAAAGCTTGAGAGATAGTCGGGTGGCATCTGAACAATCGCTAACTTGCAGCCATATTATGTCCCTATTCGAGACAGTGCTTTGGTAGTGAGGTTACAGCTTCGAATGATAAGAAACTAAACGAATCACTCGTACGTCATGGAACGGCCCCTAATAGGTTAAACACAGGTGTGGTCCACAGTATTGTGAGCCGGTATGACCGGTTCTTGTCACTGTGCTCAGATCCTGGAGGTGCTCATTCGCTGTGACCTGGGGTCCAGTGGGCCTTGAATCTGAGGGCTCCATTATTACG\n"
     ]
    }
   ],
   "source": [
    "complementTable = str.maketrans(\"ACGT\", \"TGCA\")\n",
    "\n",
    "seq = readFile(\"problems/rosalind_revc.txt\")\n",
    "seq = seq.translate(complementTable)[::-1]\n",
    "\n",
    "print(seq)"
   ]
  },
  {
   "cell_type": "markdown",
   "id": "eb8041ff",
   "metadata": {},
   "source": [
    "# Task 4 - GC Content"
   ]
  },
  {
   "cell_type": "code",
   "execution_count": null,
   "id": "9cbc2d7a",
   "metadata": {},
   "outputs": [
    {
     "name": "stdout",
     "output_type": "stream",
     "text": [
      "46.0%\n"
     ]
    }
   ],
   "source": [
    "seq = DNASeq(randomSeq())\n",
    "gcCount = seq.count('G') + seq.count('C')\n",
    "content = gcCount / len(seq)\n",
    "\n",
    "print(f\"{content * 100}%\")\n"
   ]
  },
  {
   "cell_type": "markdown",
   "id": "351ffa75",
   "metadata": {},
   "source": [
    "## Rosalind Problem\n",
    "using FASTA format as input"
   ]
  },
  {
   "cell_type": "code",
   "execution_count": null,
   "id": "59e128a5",
   "metadata": {},
   "outputs": [
    {
     "name": "stdout",
     "output_type": "stream",
     "text": [
      "Rosalind_0469\n",
      "55.056\n"
     ]
    }
   ],
   "source": [
    "seqs = readFasta(\"problems/rosalind_gc.txt\")\n",
    "seqs = {key: (s.count('G') + s.count('C')) / len(s) * 100 for key, s in seqs.items()}\n",
    "maxGC = max(seqs, key=seqs.get)\n",
    "\n",
    "print(maxGC)\n",
    "print(round(seqs[maxGC], 3))"
   ]
  },
  {
   "cell_type": "markdown",
   "id": "0f8132ca",
   "metadata": {},
   "source": [
    "# Task 5 - Codons"
   ]
  },
  {
   "cell_type": "markdown",
   "id": "9dfd9506",
   "metadata": {},
   "source": [
    "## Transcribing DNA to Protein"
   ]
  },
  {
   "cell_type": "code",
   "execution_count": null,
   "id": "1f2fbd00",
   "metadata": {},
   "outputs": [
    {
     "name": "stdout",
     "output_type": "stream",
     "text": [
      "CACATCGGGTGGATGTAGCTGGAAACCCAGCGAGGGCCGTTAACTGCCGG\n",
      " H  I  G  W  M  _  L  E  T  Q  R  G  P  L  T  A \n"
     ]
    }
   ],
   "source": [
    "seq = randomSeq()\n",
    "\n",
    "pseq = ''\n",
    "for i in range(0, len(seq) // 3):\n",
    "    frame = seq[i*3:i*3 + 3]\n",
    "    p = dnaCondons.get(frame)\n",
    "    assert(p != None)\n",
    "    pseq += p\n",
    "\n",
    "print(seq)\n",
    "print(''.join([ ' ' + p + ' ' for p in pseq ]))"
   ]
  },
  {
   "cell_type": "markdown",
   "id": "d3aa47f2",
   "metadata": {},
   "source": [
    "## Calculating codon frequency"
   ]
  },
  {
   "cell_type": "code",
   "execution_count": 22,
   "id": "011800ed",
   "metadata": {},
   "outputs": [
    {
     "name": "stdout",
     "output_type": "stream",
     "text": [
      "ATG: 100.0\n"
     ]
    }
   ],
   "source": [
    "from collections import Counter\n",
    "\n",
    "targetProtein = 'M'\n",
    "seq = utils.randomSeq()\n",
    "\n",
    "codons = []\n",
    "\n",
    "for i in range(0, len(seq) // 3):\n",
    "    frame = seq[i*3:i*3 + 3]\n",
    "    if dnaCondons[frame] == targetProtein:\n",
    "        codons.append(frame)\n",
    "\n",
    "freqs = {codon: count / len(codons) for codon, count in Counter(codons).items()}\n",
    "\n",
    "for codon, freq in freqs.items():\n",
    "    print(f\"{codon}: {freq * 100}\")"
   ]
  }
 ],
 "metadata": {
  "kernelspec": {
   "display_name": "3.13.4",
   "language": "python",
   "name": "python3"
  },
  "language_info": {
   "codemirror_mode": {
    "name": "ipython",
    "version": 3
   },
   "file_extension": ".py",
   "mimetype": "text/x-python",
   "name": "python",
   "nbconvert_exporter": "python",
   "pygments_lexer": "ipython3",
   "version": "3.13.4"
  }
 },
 "nbformat": 4,
 "nbformat_minor": 5
}
