{
 "cells": [
  {
   "cell_type": "code",
   "execution_count": 1,
   "id": "7491cc23",
   "metadata": {},
   "outputs": [],
   "source": [
    "import utils"
   ]
  },
  {
   "cell_type": "markdown",
   "id": "42b41f86",
   "metadata": {},
   "source": [
    "# Task 1 - Counting DNA bases"
   ]
  },
  {
   "cell_type": "code",
   "execution_count": 7,
   "id": "2ff231b7",
   "metadata": {},
   "outputs": [
    {
     "name": "stdout",
     "output_type": "stream",
     "text": [
      "219 211 216 190\n"
     ]
    }
   ],
   "source": [
    "import collections\n",
    "\n",
    "with open(\"problems/rosalind_dna.txt\", 'r') as f:\n",
    "    seq = f.read().strip()\n",
    "counts = collections.Counter(seq)\n",
    "\n",
    "print(f\"{counts['A']} {counts['C']} {counts['G']} {counts['T']}\")"
   ]
  },
  {
   "cell_type": "markdown",
   "id": "2b0525ab",
   "metadata": {},
   "source": [
    "# Task 2 - Transcribe into RNA"
   ]
  },
  {
   "cell_type": "code",
   "execution_count": 6,
   "id": "b4809e88",
   "metadata": {},
   "outputs": [
    {
     "name": "stdout",
     "output_type": "stream",
     "text": [
      "GGGCGUGCUGAUGCUAUUGGCAUCCACACCAAUUGAGUGCUCAUAUUAUGAACACCUCUGCUUAUGUGUGAGCCUCCCUCGCCAUCAGUGUUCAACCUGAAGAAGAUGGAGUAGCUAUUCGGUUGGCUAAACGCGCGAUUGGCAACGCGCCUGUAAUUGUCAAGUCAGAGUCCCAGAUAUGUCGCAGACCGUUGGAGUCGCCAUGGACAAGCUCGCUUGGUGGUAGUAUUUGCCGGCAGGAGAAACUAUACUGCAUGUGCGCGCCGCUAUACACGUGGCCGCCCCCACAAGCGCGUCAUUACAGUCCGGCCUGCGCCCACCUCGCCUCGUGCUUGCCAACAGUUCGAGUAGCUAUAAGUUGACGGAACCAAUGUUCACCAAAAGUCGCCACGUAGUAUACAAUUUCAGCAAGAAUUCAAUAUGGCUGUCGAAGCGGGAGUAUGGUUAGCGCACAUCGUACUUGCCUCCCGAUUGCCAGAUGUCUCGGCAUUGCUAGCUGACCCUGUAAUCAGCCGCAAAUGCACAUGGAGUCGAAAGGGAGACCGAGCUACGCCGAUCGGCGAUCGUCAAGUAAGGGCGUGGUUGACGAUUAGACACUGUAGCACAUUGGCCGUUAUGGUCAGCAGGGGAGUUCUGGAUUGUUCAGGCAGCGCGUGACUUCAAGCUCAGCGGUGCAAACAACCUGACGUGUUAAGAAUUGGUGUCCAUGCAACUUUGGGCCCAUCAAAAGCAGCUUAGUACAUGGUGGUCCCCUCAGACUCUUGGCGCCACCGAGUGAGAAUGAGCAAAUUCGGAAGAGCGAUUGAAACGAUCGCUCAUCAUGAAGCCUAAGAUUACUUGUGUGUGGCCGAAAGGACUAACGGUCAGACUCAACUCACAAACUACAAGGCGUUACCUGUGAACGUUCGAUCGAGCCAUGGUUUAUGUUUUAAGUG\n"
     ]
    }
   ],
   "source": [
    "seq = utils.readFromFile(\"problems/rosalind_rna.txt\")\n",
    "seq = seq.replace('T', 'U')\n",
    "\n",
    "print(seq)"
   ]
  },
  {
   "cell_type": "markdown",
   "id": "d06f7255",
   "metadata": {},
   "source": [
    "# Task 3 - Reverse complementing DNA\n",
    "\n",
    "DNA sequences have directions which run from 5' to 3' with 5' being the phosphate end and 3' being the hydroxy end. String representions are also ordered as such. So to form a sequence complementary to another, not only should the bases be flipped to their complements, the order of the sequence is also reversed.\n",
    "\n",
    "```\n",
    "5' ---> 3'\n",
    "ATCGTAGCAG <- input sequence\n",
    "TAGCATCGTC <- output sequence\n",
    "3' ---> 5'\n",
    "\n",
    "output sequence (5'-3'): CTGCTACGAT\n",
    "```"
   ]
  },
  {
   "cell_type": "code",
   "execution_count": 5,
   "id": "c1ab0095",
   "metadata": {},
   "outputs": [
    {
     "name": "stdout",
     "output_type": "stream",
     "text": [
      "TGCAGGCAGGGTCTATTTACTGATCGTACTTGTACAACGAAGCCTCTAGGAGGAGTCACATACTGTTCCGTTAGCAACACCATTACCGATCGAACGAGTGACACCGCGTGGCCCATCGGGCTAGCGGGCTCCCTACTGGCCGTAGGTGATCGATACACGAAAGCCAGACAAGTCGCGGATGGGTATGAGCCTACTAGAGTGCACTGGGGTAAGTGACTAGTTCGATCCTTTTATCGATCGTGATCCAGCGCGGGCAAGACGACACCAATGCAAAGATCCTCCGTCGTGTGGATCGCCCTGCCAGTCGAGGCGCGGGGTCAAAAGATCAGGTGGTCAATCTACAGTGCCATCTGTATTGTGAGGGAGAATTTTAAAGTATAGCGTCGATCAAAGTCGGTTAATCAGTTAACTTAGCGGATGTCCACGGAGCGTCGTAGCAGGATTTTGTCCCGTAACGAAGTGGTCAACGGGTGTAGTTCAGTAAGGAAAGGCAATGCCAGGCCTCGGTTCAGCAGGCTGGGATTGACTGGATCGCGTCATAGGCTTCAAAGCACGTGTATATTCAAGTAGCCTCCTTCTTACGGAGTAGTAGACGGAAAACGGTGAGTAGCAACAAGTAATCAAAGACGGTATCTAACCACCAGAGCGTACAAGTGAAAAGGTATGGTTAACCGTTGCGAATAGGAAAGCTTGAGAGATAGTCGGGTGGCATCTGAACAATCGCTAACTTGCAGCCATATTATGTCCCTATTCGAGACAGTGCTTTGGTAGTGAGGTTACAGCTTCGAATGATAAGAAACTAAACGAATCACTCGTACGTCATGGAACGGCCCCTAATAGGTTAAACACAGGTGTGGTCCACAGTATTGTGAGCCGGTATGACCGGTTCTTGTCACTGTGCTCAGATCCTGGAGGTGCTCATTCGCTGTGACCTGGGGTCCAGTGGGCCTTGAATCTGAGGGCTCCATTATTACG\n"
     ]
    }
   ],
   "source": [
    "complementTable = str.maketrans(\"ACGT\", \"TGCA\")\n",
    "\n",
    "seq = utils.readFromFile(\"problems/rosalind_revc.txt\")\n",
    "seq = seq.translate(complementTable)[::-1]\n",
    "\n",
    "print(seq)"
   ]
  }
 ],
 "metadata": {
  "kernelspec": {
   "display_name": "3.11.3",
   "language": "python",
   "name": "python3"
  },
  "language_info": {
   "codemirror_mode": {
    "name": "ipython",
    "version": 3
   },
   "file_extension": ".py",
   "mimetype": "text/x-python",
   "name": "python",
   "nbconvert_exporter": "python",
   "pygments_lexer": "ipython3",
   "version": "3.11.3"
  }
 },
 "nbformat": 4,
 "nbformat_minor": 5
}
